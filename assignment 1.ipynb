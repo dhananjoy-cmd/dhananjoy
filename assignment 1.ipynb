{
 "cells": [
  {
   "cell_type": "markdown",
   "id": "3f0acdb9-cbef-4e2c-8c5e-4908534da5eb",
   "metadata": {},
   "source": [
    "1."
   ]
  },
  {
   "cell_type": "code",
   "execution_count": 5,
   "id": "2d0a4916-2626-4aad-9c44-976b6eb1fa20",
   "metadata": {},
   "outputs": [],
   "source": [
    "str = \"This is a string.\"\n",
    "list  = [1, 2, 3, 4, 5]\n",
    "float = 3.14159\n",
    "tuple = (1, 2, 3, 4, 5)"
   ]
  },
  {
   "cell_type": "code",
   "execution_count": 7,
   "id": "70c62acf-e8c3-4ad1-9cfa-b14c874eacee",
   "metadata": {},
   "outputs": [
    {
     "name": "stdout",
     "output_type": "stream",
     "text": [
      "This is a string. [1, 2, 3, 4, 5] 3.14159 (1, 2, 3, 4, 5)\n"
     ]
    }
   ],
   "source": [
    "print (str,list , float ,tuple)\n"
   ]
  },
  {
   "cell_type": "raw",
   "id": "7c12b94f-a76b-4c25-b74c-614acd49c318",
   "metadata": {},
   "source": [
    "2."
   ]
  },
  {
   "cell_type": "code",
   "execution_count": null,
   "id": "a9cd58e2-fb20-48ee-a361-86db4f324d89",
   "metadata": {},
   "outputs": [],
   "source": [
    "var1 is a string, because it is enclosed in single quotes.\n",
    "var2 is a string, because it is enclosed in square brackets, but it contains a list of strings.\n",
    "var3 is a list, because it is enclosed in square brackets and contains a list of strings.\n",
    "var4 is a float, because it is a decimal number."
   ]
  },
  {
   "cell_type": "code",
   "execution_count": 8,
   "id": "ad3a8147-e49b-41df-8cac-020c7593822e",
   "metadata": {},
   "outputs": [
    {
     "name": "stdout",
     "output_type": "stream",
     "text": [
      "<class 'str'>\n",
      "<class 'str'>\n",
      "<class 'list'>\n",
      "<class 'float'>\n"
     ]
    }
   ],
   "source": [
    "var1 = ' '\n",
    "var2 = '[ DS , ML , Python]'\n",
    "var3 = ['DS', 'ML', 'Python']\n",
    "var4 = 1.\n",
    "\n",
    "print(type(var1))\n",
    "print(type(var2))\n",
    "print(type(var3))\n",
    "print(type(var4))"
   ]
  },
  {
   "cell_type": "code",
   "execution_count": null,
   "id": "867947b2-376a-46e4-9a2f-c21ffd03fdd5",
   "metadata": {},
   "outputs": [],
   "source": [
    "3."
   ]
  },
  {
   "cell_type": "code",
   "execution_count": null,
   "id": "2633a00d-e624-47d7-8f1a-24e459333c39",
   "metadata": {},
   "outputs": [],
   "source": [
    "Division (/): This operator divides the first operand by the second operand. For example, 10 / 2 will return the value 5.\n"
   ]
  },
  {
   "cell_type": "code",
   "execution_count": 9,
   "id": "af5bb29b-5e90-4083-8a5b-9d0f4ed3ff66",
   "metadata": {},
   "outputs": [
    {
     "name": "stdout",
     "output_type": "stream",
     "text": [
      "5.0\n"
     ]
    }
   ],
   "source": [
    "print(10 / 2)"
   ]
  },
  {
   "cell_type": "code",
   "execution_count": null,
   "id": "80b2d647-6807-41c2-b008-e0325666a3b0",
   "metadata": {},
   "outputs": [],
   "source": [
    "Modulo (%): This operator returns the remainder of the division of the first operand by the second operand. For example, 10 % 2 will return the value 0."
   ]
  },
  {
   "cell_type": "code",
   "execution_count": 10,
   "id": "2d9c2670-f1e0-4561-a0a4-1a4bfbfa467c",
   "metadata": {},
   "outputs": [
    {
     "name": "stdout",
     "output_type": "stream",
     "text": [
      "0\n"
     ]
    }
   ],
   "source": [
    "print(10 % 2)\n"
   ]
  },
  {
   "cell_type": "code",
   "execution_count": null,
   "id": "ba08c9cc-a2ec-4ae1-aba8-e2d719dc937e",
   "metadata": {},
   "outputs": [],
   "source": [
    "Floor division (//): This operator divides the first operand by the second operand and rounds down the result to the nearest integer. For example, 10 // 2 will return the value 5.\n"
   ]
  },
  {
   "cell_type": "code",
   "execution_count": 11,
   "id": "3dae7956-fb9f-459a-a750-e94a4cbc021d",
   "metadata": {},
   "outputs": [
    {
     "name": "stdout",
     "output_type": "stream",
     "text": [
      "5\n"
     ]
    }
   ],
   "source": [
    "print(10 // 2)\n"
   ]
  },
  {
   "cell_type": "code",
   "execution_count": null,
   "id": "8b107d9f-1e5f-445a-a2b4-24f45d6ef003",
   "metadata": {},
   "outputs": [],
   "source": [
    "Exponentiation ()**: This operator raises the first operand to the power of the second operand. For example, 2 ** 3 will return the value 8."
   ]
  },
  {
   "cell_type": "code",
   "execution_count": 14,
   "id": "4d3ae1c5-5854-4b2c-90bd-23e5f6913f6b",
   "metadata": {},
   "outputs": [
    {
     "name": "stdout",
     "output_type": "stream",
     "text": [
      "8\n"
     ]
    }
   ],
   "source": [
    "print(2 ** 3)"
   ]
  },
  {
   "cell_type": "code",
   "execution_count": null,
   "id": "fafd28de-feea-4f31-ae53-e8533d0d4fcc",
   "metadata": {},
   "outputs": [],
   "source": [
    "4."
   ]
  },
  {
   "cell_type": "code",
   "execution_count": 15,
   "id": "bcadd599-36b1-4153-9dd7-247fff71018c",
   "metadata": {},
   "outputs": [
    {
     "name": "stdout",
     "output_type": "stream",
     "text": [
      "Element: This is a string., Type: <class 'str'>\n",
      "Element: 10, Type: <class 'int'>\n",
      "Element: 3.14159, Type: <class 'float'>\n",
      "Element: (1, 2, 3), Type: <class 'tuple'>\n",
      "Element: {'name': 'Bard', 'age': 100}, Type: <class 'dict'>\n",
      "Element: True, Type: <class 'bool'>\n",
      "Element: False, Type: <class 'bool'>\n",
      "Element: None, Type: <class 'NoneType'>\n",
      "Element: (1+2j), Type: <class 'complex'>\n",
      "Element: b'This is a binary string.', Type: <class 'bytes'>\n"
     ]
    }
   ],
   "source": [
    "my_list = [\n",
    "    \"This is a string.\",\n",
    "    10,\n",
    "    3.14159,\n",
    "    (1, 2, 3),\n",
    "    {\"name\": \"Bard\", \"age\": 100},\n",
    "    True,\n",
    "    False,\n",
    "    None,\n",
    "    complex(1, 2),\n",
    "    b\"This is a binary string.\",\n",
    "]\n",
    "\n",
    "for element in my_list:\n",
    "    print(f\"Element: {element}, Type: {type(element)}\")"
   ]
  },
  {
   "cell_type": "code",
   "execution_count": null,
   "id": "4c028c53-8c0c-4300-b3a3-d980ffa8aac9",
   "metadata": {},
   "outputs": [],
   "source": [
    "5."
   ]
  },
  {
   "cell_type": "code",
   "execution_count": 16,
   "id": "0d3a05ad-a064-46bc-b3d3-4e0a53d1a524",
   "metadata": {},
   "outputs": [
    {
     "name": "stdin",
     "output_type": "stream",
     "text": [
      "Enter the first number:  54654\n",
      "Enter the second number:  1644\n"
     ]
    },
    {
     "name": "stdout",
     "output_type": "stream",
     "text": [
      "The number 54654 is not divisible by 1644.\n"
     ]
    }
   ],
   "source": [
    "def is_divisible(a, b):\n",
    "    \"\"\"\n",
    "    Checks if the number A is purely divisible by number B.\n",
    "\n",
    "    Args:\n",
    "        a: The first number.\n",
    "        b: The second number.\n",
    "\n",
    "    Returns:\n",
    "        True if the number A is purely divisible by number B, False otherwise.\n",
    "    \"\"\"\n",
    "\n",
    "    count = 0\n",
    "    while a % b == 0:\n",
    "        count += 1\n",
    "        a //= b\n",
    "\n",
    "    return count > 0\n",
    "\n",
    "\n",
    "def main():\n",
    "    \"\"\"\n",
    "    Main function.\n",
    "    \"\"\"\n",
    "\n",
    "    a = int(input(\"Enter the first number: \"))\n",
    "    b = int(input(\"Enter the second number: \"))\n",
    "\n",
    "    if is_divisible(a, b):\n",
    "        print(f\"The number {a} is divisible by {b} {count} times.\")\n",
    "    else:\n",
    "        print(f\"The number {a} is not divisible by {b}.\")\n",
    "\n",
    "\n",
    "if __name__ == \"__main__\":\n",
    "    main()"
   ]
  },
  {
   "cell_type": "markdown",
   "id": "999674ee-cdc9-4cf3-a106-dc63921914c0",
   "metadata": {},
   "source": [
    "6."
   ]
  },
  {
   "cell_type": "code",
   "execution_count": 17,
   "id": "6fe488a0-a8e8-4fb8-9dde-e63f13181c03",
   "metadata": {},
   "outputs": [
    {
     "name": "stdout",
     "output_type": "stream",
     "text": [
      "The number 1 is not divisible by 3.\n",
      "The number 2 is not divisible by 3.\n",
      "The number 3 is divisible by 3.\n",
      "The number 4 is not divisible by 3.\n",
      "The number 5 is not divisible by 3.\n",
      "The number 6 is divisible by 3.\n",
      "The number 7 is not divisible by 3.\n",
      "The number 8 is not divisible by 3.\n",
      "The number 9 is divisible by 3.\n",
      "The number 10 is not divisible by 3.\n",
      "The number 11 is not divisible by 3.\n",
      "The number 12 is divisible by 3.\n",
      "The number 13 is not divisible by 3.\n",
      "The number 14 is not divisible by 3.\n",
      "The number 15 is divisible by 3.\n",
      "The number 16 is not divisible by 3.\n",
      "The number 17 is not divisible by 3.\n",
      "The number 18 is divisible by 3.\n",
      "The number 19 is not divisible by 3.\n",
      "The number 20 is not divisible by 3.\n",
      "The number 21 is divisible by 3.\n",
      "The number 22 is not divisible by 3.\n",
      "The number 23 is not divisible by 3.\n",
      "The number 24 is divisible by 3.\n",
      "The number 25 is not divisible by 3.\n"
     ]
    }
   ],
   "source": [
    "def is_divisible_by_3(number):\n",
    "    \"\"\"\n",
    "    Checks if the number is divisible by 3.\n",
    "\n",
    "    Args:\n",
    "        number: The number to check.\n",
    "\n",
    "    Returns:\n",
    "        True if the number is divisible by 3, False otherwise.\n",
    "    \"\"\"\n",
    "\n",
    "    return number % 3 == 0\n",
    "\n",
    "\n",
    "def main():\n",
    "    \"\"\"\n",
    "    Main function.\n",
    "    \"\"\"\n",
    "\n",
    "    numbers = [i for i in range(1, 26)]\n",
    "\n",
    "    for number in numbers:\n",
    "        if is_divisible_by_3(number):\n",
    "            print(f\"The number {number} is divisible by 3.\")\n",
    "        else:\n",
    "            print(f\"The number {number} is not divisible by 3.\")\n",
    "\n",
    "\n",
    "if __name__ == \"__main__\":\n",
    "    main()"
   ]
  },
  {
   "cell_type": "code",
   "execution_count": null,
   "id": "d8e6ff07-45cb-462d-b7d4-83bf58584795",
   "metadata": {},
   "outputs": [],
   "source": [
    "7."
   ]
  },
  {
   "cell_type": "code",
   "execution_count": 19,
   "id": "13017ad0-1580-4cb1-8a2c-9b63af0a4d2a",
   "metadata": {},
   "outputs": [],
   "source": [
    "\n",
    "my_list = [1, 2, 3]\n"
   ]
  },
  {
   "cell_type": "markdown",
   "id": "ab566e42-e8ba-4614-81de-18382f040d2c",
   "metadata": {},
   "source": [
    "my_list(0)=0"
   ]
  }
 ],
 "metadata": {
  "kernelspec": {
   "display_name": "Python 3 (ipykernel)",
   "language": "python",
   "name": "python3"
  },
  "language_info": {
   "codemirror_mode": {
    "name": "ipython",
    "version": 3
   },
   "file_extension": ".py",
   "mimetype": "text/x-python",
   "name": "python",
   "nbconvert_exporter": "python",
   "pygments_lexer": "ipython3",
   "version": "3.10.8"
  }
 },
 "nbformat": 4,
 "nbformat_minor": 5
}
